{
 "cells": [
  {
   "cell_type": "code",
   "execution_count": 1,
   "id": "92c7a2c3",
   "metadata": {},
   "outputs": [],
   "source": [
    "import pandas as pd\n",
    "import numpy as np\n",
    "import seaborn as sns\n",
    "import matplotlib.pyplot as plt"
   ]
  },
  {
   "cell_type": "code",
   "execution_count": 2,
   "id": "62031b20",
   "metadata": {},
   "outputs": [],
   "source": [
    "# Data from https://www.ncbi.nlm.nih.gov/pmc/articles/PMC4039587/\n",
    "data={'Gender':[\"Male\", \"Female\"], 'Obesity Rate':[25, 42]}\n",
    "df_uae = pd.DataFrame(data)"
   ]
  },
  {
   "cell_type": "code",
   "execution_count": 4,
   "id": "98fd3b50",
   "metadata": {},
   "outputs": [],
   "source": [
    "# Data comes from this paper: https://www.ncbi.nlm.nih.gov/pmc/articles/PMC5667520\n",
    "data={'Ethnicity':['Asian', 'Asian', 'Arabic', 'Arabic', 'Western/African', 'Western/African'], 'Gender':['Male', 'Female','Male', 'Female','Male', 'Female']\n",
    "     ,'Obesity Rate':[67.0, 48.0, 20.6, 34.6, 2.3,6.4]}\n",
    "df_exp = pd.DataFrame(data)"
   ]
  },
  {
   "cell_type": "code",
   "execution_count": 3,
   "id": "40bd1627",
   "metadata": {},
   "outputs": [
    {
     "data": {
      "text/plain": [
       "Text(0.5, 1.0, 'Emirati Nationals')"
      ]
     },
     "execution_count": 3,
     "metadata": {},
     "output_type": "execute_result"
    },
    {
     "data": {
      "image/png": "[encoded data removed]",
      "text/plain": [
       "<Figure size 432x288 with 1 Axes>"
      ]
     },
     "metadata": {
      "needs_background": "light"
     },
     "output_type": "display_data"
    }
   ],
   "source": [
    "# Plotting obesity rates in UAE for male and females\n",
    "sns.color_palette(\"rocket\", 8)\n",
    "ax = sns.barplot(x= \"Gender\", y=\"Obesity Rate\", data=df_uae, palette=\"gnuplot2_r\")\n",
    "\n",
    "ax.set(ylim=(0,60))\n",
    "ax.set_title(\"Emirati Nationals\")"
   ]
  },
  {
   "cell_type": "code",
   "execution_count": 6,
   "id": "ce541abd",
   "metadata": {},
   "outputs": [
    {
     "data": {
      "text/plain": [
       "<seaborn.axisgrid.FacetGrid at 0x23bf5b09820>"
      ]
     },
     "execution_count": 6,
     "metadata": {},
     "output_type": "execute_result"
    },
    {
     "data": {
      "image/png": "[encoded data removed]",
      "text/plain": [
       "<Figure size 1080x360 with 3 Axes>"
      ]
     },
     "metadata": {
      "needs_background": "light"
     },
     "output_type": "display_data"
    }
   ],
   "source": [
    "# Plotting obesity rates for expatriates of different ethnicities\n",
    "sns.catplot(x= \"Gender\", y=\"Obesity Rate\", col=\"Ethnicity\", kind=\"bar\", data=df_exp, palette=\"gnuplot2_r\")"
   ]
  },
  {
   "cell_type": "code",
   "execution_count": 30,
   "id": "2c715064",
   "metadata": {},
   "outputs": [],
   "source": [
    "# Reading the survey data\n",
    "df_sk = pd.read_csv('survey.csv', header=None)\n",
    "df_sk.drop([10,11], axis=1, inplace=True)\n",
    "df_sk.drop([0], inplace=True)"
   ]
  },
  {
   "cell_type": "code",
   "execution_count": 31,
   "id": "158e03c6",
   "metadata": {},
   "outputs": [
    {
     "data": {
      "text/html": [
       "<div>\n",
       "<style scoped>\n",
       "    .dataframe tbody tr th:only-of-type {\n",
       "        vertical-align: middle;\n",
       "    }\n",
       "\n",
       "    .dataframe tbody tr th {\n",
       "        vertical-align: top;\n",
       "    }\n",
       "\n",
       "    .dataframe thead th {\n",
       "        text-align: right;\n",
       "    }\n",
       "</style>\n",
       "<table border=\"1\" class=\"dataframe\">\n",
       "  <thead>\n",
       "    <tr style=\"text-align: right;\">\n",
       "      <th></th>\n",
       "      <th>0</th>\n",
       "      <th>1</th>\n",
       "      <th>2</th>\n",
       "      <th>3</th>\n",
       "      <th>4</th>\n",
       "      <th>5</th>\n",
       "      <th>6</th>\n",
       "      <th>7</th>\n",
       "      <th>8</th>\n",
       "      <th>9</th>\n",
       "    </tr>\n",
       "  </thead>\n",
       "  <tbody>\n",
       "    <tr>\n",
       "      <th>1</th>\n",
       "      <td>12/01/2021 21:51</td>\n",
       "      <td>Never/rarely</td>\n",
       "      <td>I do not participate in sports / rarely partic...</td>\n",
       "      <td>Indifferent</td>\n",
       "      <td>Indifferent</td>\n",
       "      <td>Obesity is a disease resulting from many diffe...</td>\n",
       "      <td>Health issues/problems (general or other speci...</td>\n",
       "      <td>Male</td>\n",
       "      <td>18-23</td>\n",
       "      <td>Resident</td>\n",
       "    </tr>\n",
       "    <tr>\n",
       "      <th>2</th>\n",
       "      <td>12/01/2021 19:22</td>\n",
       "      <td>more than 3 times a week</td>\n",
       "      <td>1-3 times a week</td>\n",
       "      <td>Indifferent</td>\n",
       "      <td>Yes</td>\n",
       "      <td>Obesity is a disease resulting from many diffe...</td>\n",
       "      <td>Health issues/problems (general or other speci...</td>\n",
       "      <td>Male</td>\n",
       "      <td>18-23</td>\n",
       "      <td>National/Citizen</td>\n",
       "    </tr>\n",
       "    <tr>\n",
       "      <th>3</th>\n",
       "      <td>12/01/2021 19:32</td>\n",
       "      <td>Never/rarely</td>\n",
       "      <td>I do not participate in sports / rarely partic...</td>\n",
       "      <td>Helpful</td>\n",
       "      <td>No</td>\n",
       "      <td>Obesity is a disease resulting from many diffe...</td>\n",
       "      <td>Health issues/problems (general or other speci...</td>\n",
       "      <td>Female</td>\n",
       "      <td>18-23</td>\n",
       "      <td>National/Citizen</td>\n",
       "    </tr>\n",
       "    <tr>\n",
       "      <th>4</th>\n",
       "      <td>12/01/2021 19:44</td>\n",
       "      <td>Never/rarely</td>\n",
       "      <td>I do not participate in sports / rarely partic...</td>\n",
       "      <td>Very Important</td>\n",
       "      <td>Yes</td>\n",
       "      <td>Obesity is a disease resulting from many diffe...</td>\n",
       "      <td>Health issues/problems (general or other speci...</td>\n",
       "      <td>Female</td>\n",
       "      <td>18-23</td>\n",
       "      <td>National/Citizen</td>\n",
       "    </tr>\n",
       "    <tr>\n",
       "      <th>5</th>\n",
       "      <td>12/02/2021 12:42</td>\n",
       "      <td>Never/rarely</td>\n",
       "      <td>1-3 times a week</td>\n",
       "      <td>Very Important</td>\n",
       "      <td>Yes</td>\n",
       "      <td>Obesity is a lifestyle choice resulting from a...</td>\n",
       "      <td>Health issues/problems (general or other speci...</td>\n",
       "      <td>Female</td>\n",
       "      <td>18-23</td>\n",
       "      <td>Resident</td>\n",
       "    </tr>\n",
       "  </tbody>\n",
       "</table>\n",
       "</div>"
      ],
      "text/plain": [
       "                  0                         1  \\\n",
       "1  12/01/2021 21:51              Never/rarely   \n",
       "2  12/01/2021 19:22  more than 3 times a week   \n",
       "3  12/01/2021 19:32              Never/rarely   \n",
       "4  12/01/2021 19:44              Never/rarely   \n",
       "5  12/02/2021 12:42              Never/rarely   \n",
       "\n",
       "                                                   2               3  \\\n",
       "1  I do not participate in sports / rarely partic...     Indifferent   \n",
       "2                                   1-3 times a week     Indifferent   \n",
       "3  I do not participate in sports / rarely partic...         Helpful   \n",
       "4  I do not participate in sports / rarely partic...  Very Important   \n",
       "5                                   1-3 times a week  Very Important   \n",
       "\n",
       "             4                                                  5  \\\n",
       "1  Indifferent  Obesity is a disease resulting from many diffe...   \n",
       "2          Yes  Obesity is a disease resulting from many diffe...   \n",
       "3           No  Obesity is a disease resulting from many diffe...   \n",
       "4          Yes  Obesity is a disease resulting from many diffe...   \n",
       "5          Yes  Obesity is a lifestyle choice resulting from a...   \n",
       "\n",
       "                                                   6       7      8  \\\n",
       "1  Health issues/problems (general or other speci...    Male  18-23   \n",
       "2  Health issues/problems (general or other speci...    Male  18-23   \n",
       "3  Health issues/problems (general or other speci...  Female  18-23   \n",
       "4  Health issues/problems (general or other speci...  Female  18-23   \n",
       "5  Health issues/problems (general or other speci...  Female  18-23   \n",
       "\n",
       "                  9  \n",
       "1          Resident  \n",
       "2  National/Citizen  \n",
       "3  National/Citizen  \n",
       "4  National/Citizen  \n",
       "5          Resident  "
      ]
     },
     "execution_count": 31,
     "metadata": {},
     "output_type": "execute_result"
    }
   ],
   "source": [
    "df_sk.head()"
   ]
  },
  {
   "cell_type": "code",
   "execution_count": 11,
   "id": "b6095df1",
   "metadata": {},
   "outputs": [
    {
     "data": {
      "text/plain": [
       "<AxesSubplot:title={'center':'Would you be more physically active if facilities were more accessible? (closer to you, women only, etc?)'}, xlabel='5', ylabel='count'>"
      ]
     },
     "execution_count": 11,
     "metadata": {},
     "output_type": "execute_result"
    },
    {
     "data": {
      "image/png": "[encoded data removed]",
      "text/plain": [
       "<Figure size 720x432 with 1 Axes>"
      ]
     },
     "metadata": {
      "needs_background": "light"
     },
     "output_type": "display_data"
    }
   ],
   "source": [
    "# Plot to see how many men vs women would benefit from accessible facilities\n",
    "fig, ax = plt.subplots(figsize=(10,6))\n",
    "ax.set_title('Would you be more physically active if facilities were more accessible? (closer to you, women only, etc?)')\n",
    "sns.countplot(x=5, hue=8, data=df_sk, palette=\"gnuplot2_r\", ax=ax)"
   ]
  },
  {
   "cell_type": "code",
   "execution_count": 14,
   "id": "7dca4392",
   "metadata": {},
   "outputs": [
    {
     "data": {
      "text/plain": [
       "<AxesSubplot:title={'center':'Are gendered facilities important to you?'}, xlabel='4', ylabel='count'>"
      ]
     },
     "execution_count": 14,
     "metadata": {},
     "output_type": "execute_result"
    },
    {
     "data": {
      "image/png": "[encoded data removed]",
      "text/plain": [
       "<Figure size 720x432 with 1 Axes>"
      ]
     },
     "metadata": {
      "needs_background": "light"
     },
     "output_type": "display_data"
    }
   ],
   "source": [
    "fig, ax = plt.subplots(figsize=(10,6))\n",
    "ax.set_title('Are gendered facilities important to you?')\n",
    "sns.countplot(x=4, hue=8, data=df_sk, palette=\"gnuplot2_r\", ax=ax)"
   ]
  },
  {
   "cell_type": "code",
   "execution_count": null,
   "id": "7e9736ba",
   "metadata": {},
   "outputs": [],
   "source": []
  }
 ],
 "metadata": {
  "kernelspec": {
   "display_name": "Python 3",
   "language": "python",
   "name": "python3"
  },
  "language_info": {
   "codemirror_mode": {
    "name": "ipython",
    "version": 3
   },
   "file_extension": ".py",
   "mimetype": "text/x-python",
   "name": "python",
   "nbconvert_exporter": "python",
   "pygments_lexer": "ipython3",
   "version": "3.9.2"
  }
 },
 "nbformat": 4,
 "nbformat_minor": 5
}
